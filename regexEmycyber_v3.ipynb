{
  "cells": [
    {
      "cell_type": "markdown",
      "metadata": {
        "id": "1fVddyH9M8du"
      },
      "source": [
        "#1 - Instalação do Pacote para conexão do nosso sietma WEB"
      ]
    },
    {
      "cell_type": "code",
      "execution_count": null,
      "metadata": {
        "colab": {
          "background_save": true
        },
        "id": "OAfAwGJsL7LV"
      },
      "outputs": [],
      "source": [
        "#Instalação do Pacote para conexão do nosso sistema na WEB\n",
        "!pip install -q pyngrok"
      ]
    },
    {
      "cell_type": "markdown",
      "metadata": {
        "id": "UnGLIo80NDnO"
      },
      "source": [
        "#2 - Instalar o pacote para implementação do nosso sistema WEB"
      ]
    },
    {
      "cell_type": "code",
      "execution_count": null,
      "metadata": {
        "colab": {
          "background_save": true
        },
        "id": "ufhWDon8L-9U"
      },
      "outputs": [],
      "source": [
        "#Instalar o pacote para implementação do nosso sistema WEB\n",
        "!pip install -q streamlit\n",
        "!pip install -q streamlit_ace"
      ]
    },
    {
      "cell_type": "markdown",
      "metadata": {
        "id": "Gyvassg4NItM"
      },
      "source": [
        "#3 - Criar o Sistema"
      ]
    },
    {
      "cell_type": "code",
      "execution_count": null,
      "metadata": {
        "id": "SqBSlxpIMfYI"
      },
      "outputs": [],
      "source": [
        "#executa o sistema\n",
        "!streamlit run app.py &>/dev/null&"
      ]
    },
    {
      "cell_type": "markdown",
      "metadata": {
        "id": "oJcizy4cNhzb"
      },
      "source": [
        "#4 - Criar conexão do nosso sistema na WEB"
      ]
    },
    {
      "cell_type": "code",
      "execution_count": null,
      "metadata": {
        "id": "_uny65jONb4M"
      },
      "outputs": [],
      "source": [
        "#importando a biblioteca para a conexão do nosso sistema\n",
        "from pyngrok import ngrok"
      ]
    },
    {
      "cell_type": "markdown",
      "metadata": {
        "id": "gw0HVORENvaL"
      },
      "source": [
        "#5 - Publicar nosso sistema numa URL"
      ]
    },
    {
      "cell_type": "code",
      "execution_count": null,
      "metadata": {
        "colab": {
          "base_uri": "https://localhost:8080/"
        },
        "id": "DGxC7jegNpLD",
        "outputId": "0c142cf7-ebe9-43c8-b2dc-fd5869f27ad4"
      },
      "outputs": [
        {
          "name": "stdout",
          "output_type": "stream",
          "text": [
            "Overwriting app.py\n"
          ]
        }
      ],
      "source": [
        "#comando para criar o sistema no arquivo app.py\n",
        "%%writefile app.py\n",
        "\n",
        "#importando projetos\n",
        "import streamlit as st\n",
        "import re\n",
        "#extensões de salvamento em machine learnning (.pickle ou .joblib)\n",
        "#essa função é para a criação da webpage\n",
        "def main():\n",
        "\n",
        "    #elementos da webpage\n",
        "    html_temp = \"\"\"\n",
        "    <div style =\"background-image:linear-gradient(to right,#33ccff,pink);padding:13;border-radius:25px;\">\n",
        "    <h1 style =\"color:white;text-align:center;\">Chat</h1>\n",
        "    </div>\n",
        "    \"\"\"\n",
        "\n",
        "    # Função do stramlit que faz o display da webpage\n",
        "    st.markdown(html_temp, unsafe_allow_html = True) \n",
        "        \n",
        "    # As linhas abaixo criam as caixas na qual o usuário vai entrar com dados da pessoa que quer o empréstimo para fazer a Predição\n",
        "    titulo = st.text_input('Simule um chat aberto de sistema moba: ')\n",
        "        \n",
        "    def getMatchRegex(field):\n",
        "      match = re.search('(?i)(xingamentos)|(vaca)|(burrão)|(palavrões)|(gay)|(lixão)|(ameaças)|(macaco)|(escravo)|(mulherzinha)|(jumento)|(caralho)|(pariu)|(cu)|(viadinho)|(discursos de ódio)|(chata)|(chato)|(bocó)|(viado)|(xenofobia)|(cyberbullying)|(machismo)|(racismo)|(homofobia)|(animal)|(comportamento agressivo)|(bosta)|(lixo)|(puta)|(otário)|(mula)|(burro)|(imbecil)|(lezado)|(caralho)|(porra)|(anta)|(preconceito)|(vadia)|(vagabundo)|(desgraçado)|(acefalo)', field.lower())\n",
        "      if st.button(\"Verificar\"): \n",
        "        if match:\n",
        "          st.success('Palavra Inapropriada? Sim')\n",
        "        else:\n",
        "          st.success('Palavra Inapropriada? Não')\n",
        "\n",
        "    getMatchRegex(titulo)\n",
        "\n",
        "if __name__=='__main__': \n",
        "    main()  "
      ]
    },
    {
      "cell_type": "markdown",
      "metadata": {
        "id": "leouh_-hAuKD"
      },
      "source": [
        "##7° Abrir o Sistema via Link que contém a palavra ngrok.io"
      ]
    },
    {
      "cell_type": "code",
      "execution_count": null,
      "metadata": {
        "colab": {
          "base_uri": "https://localhost:8080/"
        },
        "id": "Jpdn1XkHOymH",
        "outputId": "ba503860-a5ca-4787-ef11-b9c5f7aff048"
      },
      "outputs": [
        {
          "name": "stdout",
          "output_type": "stream",
          "text": [
            "2022-04-13 22:06:29.232 INFO    numexpr.utils: NumExpr defaulting to 2 threads.\n",
            "\u001b[K\u001b[?25hnpx: installed 22 in 2.741s\n",
            "your url is: https://nasty-dolphin-88.loca.lt\n",
            "\u001b[0m\n",
            "\u001b[34m\u001b[1m  You can now view your Streamlit app in your browser.\u001b[0m\n",
            "\u001b[0m\n",
            "\u001b[34m  Network URL: \u001b[0m\u001b[1mhttp://172.28.0.2:8501\u001b[0m\n",
            "\u001b[34m  External URL: \u001b[0m\u001b[1mhttp://34.86.11.183:8501\u001b[0m\n",
            "\u001b[0m\n",
            "\u001b[34m  Stopping...\u001b[0m\n",
            "^C\n"
          ]
        }
      ],
      "source": [
        "!streamlit run app.py & npx localtunnel --port 8501"
      ]
    },
    {
      "cell_type": "code",
      "execution_count": null,
      "metadata": {
        "id": "2NdqxRUiAycP"
      },
      "outputs": [],
      "source": [
        ""
      ]
    }
  ],
  "metadata": {
    "colab": {
      "name": "regexEmycyber_v3.ipynb",
      "provenance": []
    },
    "kernelspec": {
      "display_name": "Python 3",
      "name": "python3"
    },
    "language_info": {
      "name": "python"
    }
  },
  "nbformat": 4,
  "nbformat_minor": 0
}