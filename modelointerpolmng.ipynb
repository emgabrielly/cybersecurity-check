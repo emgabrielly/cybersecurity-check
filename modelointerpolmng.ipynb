{
  "cells": [
    {
      "cell_type": "markdown",
      "metadata": {
        "id": "view-in-github",
        "colab_type": "text"
      },
      "source": [
        "<a href=\"https://colab.research.google.com/github/emgabrielly/cybersecurity-check/blob/main/modelointerpolmng.ipynb\" target=\"_parent\"><img src=\"https://colab.research.google.com/assets/colab-badge.svg\" alt=\"Open In Colab\"/></a>"
      ]
    },
    {
      "cell_type": "code",
      "execution_count": null,
      "metadata": {
        "id": "OAfAwGJsL7LV",
        "colab": {
          "base_uri": "https://localhost:8080/"
        },
        "outputId": "42bfb0ed-bc5b-451c-e3f1-03927f553011"
      },
      "outputs": [
        {
          "output_type": "stream",
          "name": "stdout",
          "text": [
            "Requirement already satisfied: fuzzywuzzy[speedup] in /usr/local/lib/python3.7/dist-packages (0.18.0)\n",
            "Requirement already satisfied: python-levenshtein>=0.12 in /usr/local/lib/python3.7/dist-packages (from fuzzywuzzy[speedup]) (0.12.2)\n",
            "Requirement already satisfied: setuptools in /usr/local/lib/python3.7/dist-packages (from python-levenshtein>=0.12->fuzzywuzzy[speedup]) (57.4.0)\n"
          ]
        }
      ],
      "source": [
        "!pip install -q pyngrok\n",
        "!pip install -q streamlit\n",
        "!pip install -q streamlit_ace\n",
        "!pip install fuzzywuzzy[speedup]\n",
        "!streamlit run app.py &>/dev/null&"
      ]
    },
    {
      "cell_type": "code",
      "source": [
        "from fuzzywuzzy import process\n",
        "from pyngrok import ngrok\n",
        "from fuzzywuzzy import fuzz"
      ],
      "metadata": {
        "id": "GDIR1ob4SVWT"
      },
      "execution_count": null,
      "outputs": []
    },
    {
      "cell_type": "code",
      "execution_count": null,
      "metadata": {
        "colab": {
          "base_uri": "https://localhost:8080/"
        },
        "id": "DGxC7jegNpLD",
        "outputId": "71350853-4b13-4381-e58e-0f3271e94314"
      },
      "outputs": [
        {
          "output_type": "stream",
          "name": "stdout",
          "text": [
            "Overwriting app.py\n"
          ]
        }
      ],
      "source": [
        "%%writefile app.py\n",
        "import streamlit as st\n",
        "import re\n",
        "import requests as req"
      ]
    },
    {
      "cell_type": "code",
      "source": [
        "def verifpassaporte():\n",
        "    lista_passaporte = []\n",
        "    lista_arg = req.get(\"https://emgabrielly.github.io/mng.json\")\n",
        "    arg = lista_arg.json()['mng']\n",
        "    for i in arg:\n",
        "        lista_passaporte.append(str(i['mng']))\n",
        "    return lista_passaporte\n",
        "    \n",
        "def verifnome():\n",
        "  lista_nome = []\n",
        "  lista_interpol = req.get(\"https://cspinheiro.github.io/interpol.json\")\n",
        "  interpol = lista_interpol.json()['interpol']\n",
        "  for i in interpol:\n",
        "    lista_nome.append(i['interpol'])\n",
        "  return lista_nome\n",
        "\n",
        "def regexlist(lista):\n",
        "    a='(?i)'\n",
        "    for i in lista:\n",
        "        a += f\"({i})|\"\n",
        "    a = a[:-1]\n",
        "    return a"
      ],
      "metadata": {
        "id": "XHIHrjG8zRfd"
      },
      "execution_count": null,
      "outputs": []
    },
    {
      "cell_type": "code",
      "source": [
        "def getmatch_nome(input,lista):\n",
        "    search = process.extractOne(input,lista,scorer=fuzz.token_sort_ratio)\n",
        "    if search[1] > 80:\n",
        "      return 1\n",
        "    return 0\n",
        "        \n",
        "\n",
        "def valid_nome(input_nome,lista_nome):\n",
        "  if len(input_nome) > 3 and len(re.split('\\s',input_nome)) >= 2:\n",
        "      nome = getmatch_nome(input_nome,lista_nome)\n",
        "      if nome == 1:\n",
        "        st.error('Liberação do passageiro não autorizada!')\n",
        "      if nome == 0:\n",
        "        st.success('Bem-vindo, faça uma ótima viagem')\n",
        "  else:\n",
        "      st.warning('O Nome inserido é Invalido!')\n",
        "\n",
        "def getmatch_passa(input,lista):\n",
        "    match = re.search(lista,input)\n",
        "\n",
        "    if match:\n",
        "        return 1\n",
        "    else:\n",
        "        return 0"
      ],
      "metadata": {
        "id": "CIY1_dbz8Uo-"
      },
      "execution_count": null,
      "outputs": []
    },
    {
      "cell_type": "code",
      "source": [
        "def main():\n",
        "    html_temp = \"\"\" <div style =\"background-color:black;padding:13px\">\n",
        "                      <h1 style = \"color:white;text-align:center;\">Mongólia Aeroport - VSCT/h1>\n",
        "                      <image src=\"bandeira-mongolia.jpg\";align-objet:center;>\n",
        "                    </dic>\n",
        "                \"\"\"\n",
        "\n",
        "    st.markdown(html_temp,unsafe_allow_html = True)\n",
        "    lista_passaporte = verifpassaporte()\n",
        "    lista_nome = verifnome()\n",
        "\n",
        "    lista_passaporte= regexlist(lista_passaporte)\n",
        "\n",
        "    input_passaporte = st.text_input('Passaporte: ')\n",
        "    input_nome = st.text_input('Nome Completo: ')\n",
        "\n",
        "    input_passaporte = re.sub('\\D', '', input_passaporte)\n",
        "\n",
        "    if st.button(\"Verificar\"):\n",
        "      clear = 0\n",
        "      clear = valid_passa(input_passaporte,lista_passaporte)\n",
        "      if clear == 1:\n",
        "        valid_nome(input_nome,lista_nome)\n",
        "\n",
        "def valid_passa(input_passaporte,lista_passaporte):\n",
        "      if len(input_passaporte) == 9:\n",
        "        passa = getmatch_passa(input_passaporte,lista_passaporte)\n",
        "        if passa == 1:\n",
        "            st.error('Atenção! Passageiro apresenta risco, acione a segurança imediatamente')\n",
        "            return 0\n",
        "        else:\n",
        "          return 1\n",
        "      else:\n",
        "        st.warning('Passaporte Invalido!')\n",
        "\n",
        "if __name__ == '__main__':\n",
        "    main()"
      ],
      "metadata": {
        "id": "c_cfOWFzAFQg"
      },
      "execution_count": null,
      "outputs": []
    },
    {
      "cell_type": "code",
      "execution_count": null,
      "metadata": {
        "id": "Jpdn1XkHOymH"
      },
      "outputs": [],
      "source": [
        "!streamlit run app.py & npx localtunnel --port 8501"
      ]
    }
  ],
  "metadata": {
    "colab": {
      "name": "modelointerpolmng.ipynb",
      "provenance": [],
      "collapsed_sections": [],
      "authorship_tag": "ABX9TyMXYoTdtJGh0+YkoemozZV5",
      "include_colab_link": true
    },
    "kernelspec": {
      "display_name": "Python 3",
      "name": "python3"
    },
    "language_info": {
      "name": "python"
    }
  },
  "nbformat": 4,
  "nbformat_minor": 0
}